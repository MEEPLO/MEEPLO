{
 "cells": [
  {
   "cell_type": "code",
   "execution_count": 1,
   "id": "d4aaec4f",
   "metadata": {},
   "outputs": [],
   "source": [
    "# pip install selenium"
   ]
  },
  {
   "cell_type": "code",
   "execution_count": 2,
   "id": "da33b915",
   "metadata": {},
   "outputs": [],
   "source": [
    "# pip install bs4"
   ]
  },
  {
   "cell_type": "code",
   "execution_count": 3,
   "id": "00660e5d",
   "metadata": {},
   "outputs": [],
   "source": [
    "# pip install cssutils"
   ]
  },
  {
   "cell_type": "code",
   "execution_count": 4,
   "id": "d60c652a",
   "metadata": {
    "scrolled": true
   },
   "outputs": [],
   "source": [
    "from selenium import webdriver\n",
    "from selenium.webdriver.common.keys import Keys\n",
    "from selenium.webdriver.support.ui import WebDriverWait\n",
    "from selenium.webdriver.support import expected_conditions as EC\n",
    "from selenium.webdriver.common.by import By"
   ]
  },
  {
   "cell_type": "code",
   "execution_count": 5,
   "id": "041f9685",
   "metadata": {},
   "outputs": [],
   "source": [
    "from bs4 import BeautifulSoup\n",
    "import cssutils # background-image parsing"
   ]
  },
  {
   "cell_type": "code",
   "execution_count": 6,
   "id": "5feb14dc",
   "metadata": {},
   "outputs": [],
   "source": [
    "user_agent = 'Chrome/107.0.5304.88'\n",
    "# username = 'SSAFY'\n",
    "# userProfile = \"C:\\\\Users\\\\\" + username + \"\\\\AppData\\\\Local\\\\Google\\\\Chrome\\\\User Data\\\\Default\"\n",
    "options = webdriver.ChromeOptions()\n",
    "options.add_argument(f'user-agent={user_agent}')\n",
    "# options.add_argument(\"user-data-dir={}\".format(userProfile))\n",
    "options.add_argument(\"--enable-javascript\")\n",
    "options.add_argument(\"headless\")\n",
    "\n",
    "driver = webdriver.Chrome(options=options)\n",
    "\n",
    "# chrome_driver = 'chromedriver.exe'\n",
    "# driver = webdriver.Chrome(chrome_driver)"
   ]
  },
  {
   "cell_type": "code",
   "execution_count": 7,
   "id": "cf3e0bc7",
   "metadata": {},
   "outputs": [
    {
     "name": "stdout",
     "output_type": "stream",
     "text": [
      "실행 완료\n"
     ]
    }
   ],
   "source": [
    "# location = \"바게트케이 서울특별시 강남구 테헤란로34길 21-10\"\n",
    "location = \"방이편백육분삼십 서울 강남구 테헤란로29길\"\n",
    "url = f'https://map.naver.com/v5/search/{location}/place'\n",
    "\n",
    "driver.get(url)\n",
    "\n",
    "driver.implicitly_wait(time_to_wait=1000) # waiting for redirecting\n",
    "\n",
    "print('실행 완료')"
   ]
  },
  {
   "cell_type": "code",
   "execution_count": 8,
   "id": "92a7200b",
   "metadata": {
    "scrolled": true
   },
   "outputs": [],
   "source": [
    "driver.switch_to.frame('entryIframe') # iframe 영역으로 들어가기\n",
    "\n",
    "# print(driver.page_source)\n",
    "\n",
    "# tag가 있을 경우 클릭하여 full explanation이 보이도록 html 조절\n",
    "# try:\n",
    "#     driver.find_element(By.XPATH, '//*[@id=\"app-root\"]/div/div/div/div[7]/div/div[1]/div/ul/li[6]/div/a')\n",
    "#     print('Element exists')\n",
    "# except:\n",
    "#     print('No element')"
   ]
  },
  {
   "cell_type": "code",
   "execution_count": 9,
   "id": "0882d59d",
   "metadata": {},
   "outputs": [
    {
     "name": "stdout",
     "output_type": "stream",
     "text": [
      "['https://search.pstatic.net/common/?autoRotate=true&type=w560_sharpen&src=https%3A%2F%2Fldb-phinf.pstatic.net%2F20191120_107%2F1574245120208mTvAc_JPEG%2FEDclpEj8JnVzXsCzrdXMW1cl.JPG.jpg', 'https://search.pstatic.net/common/?autoRotate=true&type=w278_sharpen&src=https%3A%2F%2Fldb-phinf.pstatic.net%2F20191120_100%2F1574245120115YjseI_JPEG%2F95q4bgY1MVwl6Fx2VTQsBkna.JPG.jpg', 'https://search.pstatic.net/common/?autoRotate=true&type=w278_sharpen&src=https%3A%2F%2Fldb-phinf.pstatic.net%2F20200521_279%2F1589987927077ccxqC_JPEG%2FVJINwT2s89VOn6KlfNBbFRqZ.jpg', 'https://search.pstatic.net/common/?autoRotate=true&type=w278_sharpen&src=https%3A%2F%2Fldb-phinf.pstatic.net%2F20200612_226%2F1591933531374mHdNB_JPEG%2FvT2izW6ryw8tV5RW4zy8YEqn.jpg', 'https://search.pstatic.net/common/?autoRotate=true&type=w278_sharpen&src=http%3A%2F%2Fblogfiles.naver.net%2FMjAyMDEyMjRfMjIx%2FMDAxNjA4ODIxNDI5MjM4.56hylTIA5t01Jv_DdhAgGJ0X7A6I2s8rnRz62JcWATIg.ZbBUApf5QWyl6QG2oIRvwkdP3dmzWhUp5yJ9N7JdRsYg.JPEG.annacatz%2FIMG_1053.jpeg']\n",
      "육류,고기요리\n",
      "070-8777-1120\n",
      "No data\n",
      "No Data\n",
      "[]\n",
      "end of web scraping\n"
     ]
    }
   ],
   "source": [
    "html = BeautifulSoup(driver.page_source, \"html.parser\")\n",
    "\n",
    "# 사진 가져오기\n",
    "photos = []\n",
    "\n",
    "photo_html = html.select('.K0PDV')\n",
    "\n",
    "for p in photo_html:\n",
    "    style = cssutils.parseStyle(p.get(\"style\"))\n",
    "    image_url = style['background-image']\n",
    "    photos.append(image_url.replace('url(', '').replace(')', ''))\n",
    "\n",
    "print(photos)\n",
    "\n",
    "bigCategory = phoneNumber = homepage = explanation = None\n",
    "\n",
    "# 큰 카테고리 가져오기\n",
    "bigCategory = html.select_one('#_title > span.DJJvD').text\n",
    "print(bigCategory)\n",
    "\n",
    "detailSelector = '#app-root > div > div > div > div:nth-child(6) > div > div.place_section.no_margin.vKA6F > div > ul > '\n",
    "\n",
    "# 설명 가져오기 -> 우선 a tag로 있는 긴 설명이 있는 경우 클릭하여 텍스트를 가져온 후 없는 경우 짧은 글을 가져오기\n",
    "# try :\n",
    "#     html.select_one(detailSelector + 'li.SF_Mq.I5Ypx > div > a > span.zPfVt')\n",
    "\n",
    "# 전화번호 가져오기\n",
    "try : \n",
    "    phoneNumber = html.select_one(detailSelector + 'li.SF_Mq.SjF5j > div > span.dry01').text\n",
    "    print(phoneNumber)\n",
    "except : \n",
    "    print('No Data')\n",
    "\n",
    "# 홈페이지 주소 가져오기\n",
    "try : \n",
    "    homepage = html.select_one(detailSelector + 'li.SF_Mq.nKpE4 > div > div > a').text\n",
    "    print(homepage)\n",
    "except : \n",
    "    print('No data')\n",
    "\n",
    "# 설명 가져오기\n",
    "try : \n",
    "    explanation = html.select_one(detailSelector + 'li.SF_Mq.I5Ypx > div > div > span').text\n",
    "    print(explanation)\n",
    "except : \n",
    "    try :\n",
    "        driver.find_element(By.CSS_SELECTOR, '').click()\n",
    "        explanation = html.select_one(detailSelector + 'li.SF_Mq.I5Ypx > div > a > span.zPfVt').text\n",
    "        print(explanation)\n",
    "    except:\n",
    "        print('No Data')\n",
    "\n",
    "# data lab에 있는 키워드 가져오기\n",
    "keywords = []\n",
    "\n",
    "keyword_html = html.select('.sJgQj')\n",
    "\n",
    "for k in keyword_html:\n",
    "    keywords.append(k.getText().replace(', ', ''))\n",
    "    \n",
    "print(keywords)\n",
    "\n",
    "print('end of web scraping')\n",
    "\n",
    "driver.close()"
   ]
  }
 ],
 "metadata": {
  "kernelspec": {
   "display_name": "Python 3 (ipykernel)",
   "language": "python",
   "name": "python3"
  },
  "language_info": {
   "codemirror_mode": {
    "name": "ipython",
    "version": 3
   },
   "file_extension": ".py",
   "mimetype": "text/x-python",
   "name": "python",
   "nbconvert_exporter": "python",
   "pygments_lexer": "ipython3",
   "version": "3.9.13"
  }
 },
 "nbformat": 4,
 "nbformat_minor": 5
}
