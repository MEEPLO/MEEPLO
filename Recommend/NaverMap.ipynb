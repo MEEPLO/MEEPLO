{
 "cells": [
  {
   "cell_type": "code",
   "execution_count": 106,
   "id": "d4aaec4f",
   "metadata": {},
   "outputs": [],
   "source": [
    "# pip install selenium"
   ]
  },
  {
   "cell_type": "code",
   "execution_count": 107,
   "id": "d60c652a",
   "metadata": {
    "scrolled": true
   },
   "outputs": [],
   "source": [
    "from selenium import webdriver\n",
    "from selenium.webdriver.common.keys import Keys\n",
    "from selenium.webdriver.support.ui import WebDriverWait\n",
    "from selenium.webdriver.support import expected_conditions as EC\n",
    "from selenium.webdriver.common.by import By"
   ]
  },
  {
   "cell_type": "code",
   "execution_count": 108,
   "id": "041f9685",
   "metadata": {},
   "outputs": [],
   "source": [
    "from bs4 import BeautifulSoup\n",
    "import time"
   ]
  },
  {
   "cell_type": "code",
   "execution_count": 109,
   "id": "5feb14dc",
   "metadata": {},
   "outputs": [],
   "source": [
    "user_agent = 'Chrome/107.0.5304.88'\n",
    "username = 'minah'\n",
    "userProfile = \"C:\\\\Users\\\\\" + username + \"\\\\AppData\\\\Local\\\\Google\\\\Chrome\\\\User Data\\\\Default\"\n",
    "options = webdriver.ChromeOptions()\n",
    "options.add_argument(f'user-agent={user_agent}')\n",
    "options.add_argument(\"user-data-dir={}\".format(userProfile))\n",
    "options.add_argument(\"--enable-javascript\")\n",
    "options.add_argument(\"headless\")\n",
    "\n",
    "driver = webdriver.Chrome(options=options)\n",
    "\n",
    "# chrome_driver = 'chromedriver.exe'\n",
    "# driver = webdriver.Chrome(chrome_driver)"
   ]
  },
  {
   "cell_type": "code",
   "execution_count": 110,
   "id": "cf3e0bc7",
   "metadata": {},
   "outputs": [],
   "source": [
    "keyword = \"바게트케이 서울특별시 강남구 테헤란로34길 21-10\"\n",
    "url = f'https://map.naver.com/v5/search/{keyword}/place'\n",
    "\n",
    "driver.get(url)\n",
    "\n",
    "time.sleep(5) # waiting for redirecting"
   ]
  },
  {
   "cell_type": "code",
   "execution_count": 111,
   "id": "92a7200b",
   "metadata": {
    "scrolled": true
   },
   "outputs": [
    {
     "name": "stdout",
     "output_type": "stream",
     "text": [
      "베이커리\n",
      "02-567-9501\n",
      "https://www.instagram.com/baguette_k/\n",
      "프랑스 전통 고급 블랑제리\n"
     ]
    }
   ],
   "source": [
    "driver.switch_to.frame('entryIframe') # iframe 영역으로 들어가기\n",
    "\n",
    "# print(driver.page_source)\n",
    "\n",
    "# 큰 카테고리 가져오기\n",
    "bigCategory = driver.find_element(By.CSS_SELECTOR, '#_title > span.DJJvD')\n",
    "print(bigCategory.text)\n",
    "\n",
    "# 전화번호 가져오기\n",
    "phoneNumber = driver.find_element(By.CSS_SELECTOR, '#app-root > div > div > div > div:nth-child(6) > div > div.place_section.no_margin.vKA6F > div > ul > li.SF_Mq.SjF5j > div > span.dry01')\n",
    "print(phoneNumber.text)\n",
    "\n",
    "# 홈페이지 주소 가져오기\n",
    "homepage = driver.find_element(By.CSS_SELECTOR, '#app-root > div > div > div > div:nth-child(6) > div > div.place_section.no_margin.vKA6F > div > ul > li.SF_Mq.nKpE4 > div > div > a')\n",
    "print(homepage.text)\n",
    "\n",
    "# 한 줄 설명 가져오기\n",
    "simpleExplanation = driver.find_element(By.CSS_SELECTOR, '#app-root > div > div > div > div:nth-child(6) > div > div.place_section.no_margin.vKA6F > div > ul > li.SF_Mq.I5Ypx > div > div > span')\n",
    "print(simpleExplanation.text)\n",
    "\n",
    "keywords = [] \n",
    "\n",
    "\n",
    "\n",
    "driver.close()"
   ]
  }
 ],
 "metadata": {
  "kernelspec": {
   "display_name": "Python 3 (ipykernel)",
   "language": "python",
   "name": "python3"
  },
  "language_info": {
   "codemirror_mode": {
    "name": "ipython",
    "version": 3
   },
   "file_extension": ".py",
   "mimetype": "text/x-python",
   "name": "python",
   "nbconvert_exporter": "python",
   "pygments_lexer": "ipython3",
   "version": "3.9.13"
  }
 },
 "nbformat": 4,
 "nbformat_minor": 5
}
