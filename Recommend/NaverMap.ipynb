{
 "cells": [
  {
   "cell_type": "code",
   "execution_count": 189,
   "id": "d4aaec4f",
   "metadata": {},
   "outputs": [],
   "source": [
    "# pip install selenium"
   ]
  },
  {
   "cell_type": "code",
   "execution_count": 190,
   "id": "d60c652a",
   "metadata": {
    "scrolled": true
   },
   "outputs": [],
   "source": [
    "from selenium import webdriver\n",
    "from selenium.webdriver.common.keys import Keys\n",
    "from selenium.webdriver.support.ui import WebDriverWait\n",
    "from selenium.webdriver.support import expected_conditions as EC\n",
    "from selenium.webdriver.common.by import By"
   ]
  },
  {
   "cell_type": "code",
   "execution_count": 191,
   "id": "041f9685",
   "metadata": {},
   "outputs": [],
   "source": [
    "from bs4 import BeautifulSoup\n",
    "import time"
   ]
  },
  {
   "cell_type": "code",
   "execution_count": 192,
   "id": "5feb14dc",
   "metadata": {},
   "outputs": [
    {
     "name": "stderr",
     "output_type": "stream",
     "text": [
      "C:\\Users\\SSAFY\\AppData\\Local\\Temp\\ipykernel_12576\\3674835435.py:9: DeprecationWarning: use options instead of chrome_options\n",
      "  driver = webdriver.Chrome(chrome_options=options)\n"
     ]
    }
   ],
   "source": [
    "user_agent = 'Chrome/107.0.5304.88'\n",
    "username = 'SSAFY'\n",
    "userProfile = \"C:\\\\Users\\\\\" + username + \"\\\\AppData\\\\Local\\\\Google\\\\Chrome\\\\User Data\\\\Default\"\n",
    "options = webdriver.ChromeOptions()\n",
    "options.add_argument(f'user-agent={user_agent}')\n",
    "options.add_argument(\"user-data-dir={}\".format(userProfile))\n",
    "options.add_argument(\"--enable-javascript\")\n",
    "\n",
    "driver = webdriver.Chrome(chrome_options=options)\n",
    "\n",
    "# chrome_driver = 'chromedriver.exe'\n",
    "# driver = webdriver.Chrome(chrome_driver)"
   ]
  },
  {
   "cell_type": "code",
   "execution_count": 193,
   "id": "cf3e0bc7",
   "metadata": {},
   "outputs": [],
   "source": [
    "keyword = \"바게트케이 서울특별시 강남구 테헤란로34길 21-10\"\n",
    "url = f'https://map.naver.com/v5/search/{keyword}/place'\n",
    "\n",
    "driver.get(url)\n",
    "\n",
    "time.sleep(5) # waiting for redirecting"
   ]
  },
  {
   "cell_type": "code",
   "execution_count": 194,
   "id": "92a7200b",
   "metadata": {
    "scrolled": true
   },
   "outputs": [
    {
     "name": "stdout",
     "output_type": "stream",
     "text": [
      "https://map.naver.com/v5/search/%EB%B0%94%EA%B2%8C%ED%8A%B8%EC%BC%80%EC%9D%B4%20%EC%84%9C%EC%9A%B8%ED%8A%B9%EB%B3%84%EC%8B%9C%20%EA%B0%95%EB%82%A8%EA%B5%AC%20%ED%85%8C%ED%97%A4%EB%9E%80%EB%A1%9C34%EA%B8%B8%2021-10/place/37362104?c=14142319.6672558,4508465.5734920,15,0,0,0,dh&isCorrectAnswer=true\n",
      "<bound method WebDriver.print_page of <selenium.webdriver.chrome.webdriver.WebDriver (session=\"a624bee79577ea6a5f6748dde1c67848\")>>\n"
     ]
    },
    {
     "ename": "NoSuchElementException",
     "evalue": "Message: no such element: Unable to locate element: {\"method\":\"css selector\",\"selector\":\"#_title\"}\n  (Session info: chrome=107.0.5304.88)\nStacktrace:\nBacktrace:\n\tOrdinal0 [0x0114ACD3+2075859]\n\tOrdinal0 [0x010DEE61+1633889]\n\tOrdinal0 [0x00FDB7BD+571325]\n\tOrdinal0 [0x0100AC2F+764975]\n\tOrdinal0 [0x0100AE1B+765467]\n\tOrdinal0 [0x0103D0F2+970994]\n\tOrdinal0 [0x01027364+881508]\n\tOrdinal0 [0x0103B56A+963946]\n\tOrdinal0 [0x01027136+880950]\n\tOrdinal0 [0x00FFFEFD+720637]\n\tOrdinal0 [0x01000F3F+724799]\n\tGetHandleVerifier [0x013FEED2+2769538]\n\tGetHandleVerifier [0x013F0D95+2711877]\n\tGetHandleVerifier [0x011DA03A+521194]\n\tGetHandleVerifier [0x011D8DA0+516432]\n\tOrdinal0 [0x010E682C+1665068]\n\tOrdinal0 [0x010EB128+1683752]\n\tOrdinal0 [0x010EB215+1683989]\n\tOrdinal0 [0x010F6484+1729668]\n\tBaseThreadInitThunk [0x7623FA29+25]\n\tRtlGetAppContainerNamedObjectPath [0x77397BBE+286]\n\tRtlGetAppContainerNamedObjectPath [0x77397B8E+238]\n",
     "output_type": "error",
     "traceback": [
      "\u001b[1;31m---------------------------------------------------------------------------\u001b[0m",
      "\u001b[1;31mNoSuchElementException\u001b[0m                    Traceback (most recent call last)",
      "\u001b[1;32m~\\AppData\\Local\\Temp\\ipykernel_12576\\2095459405.py\u001b[0m in \u001b[0;36m<module>\u001b[1;34m\u001b[0m\n\u001b[0;32m     15\u001b[0m \u001b[1;31m# update = driver.find_element(By.CSS_SELECTOR, '#_title > span.DJJvD')\u001b[0m\u001b[1;33m\u001b[0m\u001b[1;33m\u001b[0m\u001b[0m\n\u001b[0;32m     16\u001b[0m \u001b[0mprint\u001b[0m\u001b[1;33m(\u001b[0m\u001b[0mdriver\u001b[0m\u001b[1;33m.\u001b[0m\u001b[0mprint_page\u001b[0m\u001b[1;33m)\u001b[0m\u001b[1;33m\u001b[0m\u001b[1;33m\u001b[0m\u001b[0m\n\u001b[1;32m---> 17\u001b[1;33m \u001b[0mupdate\u001b[0m \u001b[1;33m=\u001b[0m \u001b[0mdriver\u001b[0m\u001b[1;33m.\u001b[0m\u001b[0mfind_element\u001b[0m\u001b[1;33m(\u001b[0m\u001b[0mBy\u001b[0m\u001b[1;33m.\u001b[0m\u001b[0mCSS_SELECTOR\u001b[0m\u001b[1;33m,\u001b[0m \u001b[1;34m'#_title'\u001b[0m\u001b[1;33m)\u001b[0m\u001b[1;33m\u001b[0m\u001b[1;33m\u001b[0m\u001b[0m\n\u001b[0m\u001b[0;32m     18\u001b[0m \u001b[1;31m# print(update.text)\u001b[0m\u001b[1;33m\u001b[0m\u001b[1;33m\u001b[0m\u001b[0m\n\u001b[0;32m     19\u001b[0m \u001b[1;33m\u001b[0m\u001b[0m\n",
      "\u001b[1;32mC:\\ProgramData\\Anaconda3\\lib\\site-packages\\selenium\\webdriver\\remote\\webdriver.py\u001b[0m in \u001b[0;36mfind_element\u001b[1;34m(self, by, value)\u001b[0m\n\u001b[0;32m    854\u001b[0m             \u001b[0mvalue\u001b[0m \u001b[1;33m=\u001b[0m \u001b[1;34m'[name=\"%s\"]'\u001b[0m \u001b[1;33m%\u001b[0m \u001b[0mvalue\u001b[0m\u001b[1;33m\u001b[0m\u001b[1;33m\u001b[0m\u001b[0m\n\u001b[0;32m    855\u001b[0m \u001b[1;33m\u001b[0m\u001b[0m\n\u001b[1;32m--> 856\u001b[1;33m         return self.execute(Command.FIND_ELEMENT, {\n\u001b[0m\u001b[0;32m    857\u001b[0m             \u001b[1;34m'using'\u001b[0m\u001b[1;33m:\u001b[0m \u001b[0mby\u001b[0m\u001b[1;33m,\u001b[0m\u001b[1;33m\u001b[0m\u001b[1;33m\u001b[0m\u001b[0m\n\u001b[0;32m    858\u001b[0m             'value': value})['value']\n",
      "\u001b[1;32mC:\\ProgramData\\Anaconda3\\lib\\site-packages\\selenium\\webdriver\\remote\\webdriver.py\u001b[0m in \u001b[0;36mexecute\u001b[1;34m(self, driver_command, params)\u001b[0m\n\u001b[0;32m    427\u001b[0m         \u001b[0mresponse\u001b[0m \u001b[1;33m=\u001b[0m \u001b[0mself\u001b[0m\u001b[1;33m.\u001b[0m\u001b[0mcommand_executor\u001b[0m\u001b[1;33m.\u001b[0m\u001b[0mexecute\u001b[0m\u001b[1;33m(\u001b[0m\u001b[0mdriver_command\u001b[0m\u001b[1;33m,\u001b[0m \u001b[0mparams\u001b[0m\u001b[1;33m)\u001b[0m\u001b[1;33m\u001b[0m\u001b[1;33m\u001b[0m\u001b[0m\n\u001b[0;32m    428\u001b[0m         \u001b[1;32mif\u001b[0m \u001b[0mresponse\u001b[0m\u001b[1;33m:\u001b[0m\u001b[1;33m\u001b[0m\u001b[1;33m\u001b[0m\u001b[0m\n\u001b[1;32m--> 429\u001b[1;33m             \u001b[0mself\u001b[0m\u001b[1;33m.\u001b[0m\u001b[0merror_handler\u001b[0m\u001b[1;33m.\u001b[0m\u001b[0mcheck_response\u001b[0m\u001b[1;33m(\u001b[0m\u001b[0mresponse\u001b[0m\u001b[1;33m)\u001b[0m\u001b[1;33m\u001b[0m\u001b[1;33m\u001b[0m\u001b[0m\n\u001b[0m\u001b[0;32m    430\u001b[0m             response['value'] = self._unwrap_value(\n\u001b[0;32m    431\u001b[0m                 response.get('value', None))\n",
      "\u001b[1;32mC:\\ProgramData\\Anaconda3\\lib\\site-packages\\selenium\\webdriver\\remote\\errorhandler.py\u001b[0m in \u001b[0;36mcheck_response\u001b[1;34m(self, response)\u001b[0m\n\u001b[0;32m    241\u001b[0m                 \u001b[0malert_text\u001b[0m \u001b[1;33m=\u001b[0m \u001b[0mvalue\u001b[0m\u001b[1;33m[\u001b[0m\u001b[1;34m'alert'\u001b[0m\u001b[1;33m]\u001b[0m\u001b[1;33m.\u001b[0m\u001b[0mget\u001b[0m\u001b[1;33m(\u001b[0m\u001b[1;34m'text'\u001b[0m\u001b[1;33m)\u001b[0m\u001b[1;33m\u001b[0m\u001b[1;33m\u001b[0m\u001b[0m\n\u001b[0;32m    242\u001b[0m             \u001b[1;32mraise\u001b[0m \u001b[0mexception_class\u001b[0m\u001b[1;33m(\u001b[0m\u001b[0mmessage\u001b[0m\u001b[1;33m,\u001b[0m \u001b[0mscreen\u001b[0m\u001b[1;33m,\u001b[0m \u001b[0mstacktrace\u001b[0m\u001b[1;33m,\u001b[0m \u001b[0malert_text\u001b[0m\u001b[1;33m)\u001b[0m  \u001b[1;31m# type: ignore[call-arg]  # mypy is not smart enough here\u001b[0m\u001b[1;33m\u001b[0m\u001b[1;33m\u001b[0m\u001b[0m\n\u001b[1;32m--> 243\u001b[1;33m         \u001b[1;32mraise\u001b[0m \u001b[0mexception_class\u001b[0m\u001b[1;33m(\u001b[0m\u001b[0mmessage\u001b[0m\u001b[1;33m,\u001b[0m \u001b[0mscreen\u001b[0m\u001b[1;33m,\u001b[0m \u001b[0mstacktrace\u001b[0m\u001b[1;33m)\u001b[0m\u001b[1;33m\u001b[0m\u001b[1;33m\u001b[0m\u001b[0m\n\u001b[0m",
      "\u001b[1;31mNoSuchElementException\u001b[0m: Message: no such element: Unable to locate element: {\"method\":\"css selector\",\"selector\":\"#_title\"}\n  (Session info: chrome=107.0.5304.88)\nStacktrace:\nBacktrace:\n\tOrdinal0 [0x0114ACD3+2075859]\n\tOrdinal0 [0x010DEE61+1633889]\n\tOrdinal0 [0x00FDB7BD+571325]\n\tOrdinal0 [0x0100AC2F+764975]\n\tOrdinal0 [0x0100AE1B+765467]\n\tOrdinal0 [0x0103D0F2+970994]\n\tOrdinal0 [0x01027364+881508]\n\tOrdinal0 [0x0103B56A+963946]\n\tOrdinal0 [0x01027136+880950]\n\tOrdinal0 [0x00FFFEFD+720637]\n\tOrdinal0 [0x01000F3F+724799]\n\tGetHandleVerifier [0x013FEED2+2769538]\n\tGetHandleVerifier [0x013F0D95+2711877]\n\tGetHandleVerifier [0x011DA03A+521194]\n\tGetHandleVerifier [0x011D8DA0+516432]\n\tOrdinal0 [0x010E682C+1665068]\n\tOrdinal0 [0x010EB128+1683752]\n\tOrdinal0 [0x010EB215+1683989]\n\tOrdinal0 [0x010F6484+1729668]\n\tBaseThreadInitThunk [0x7623FA29+25]\n\tRtlGetAppContainerNamedObjectPath [0x77397BBE+286]\n\tRtlGetAppContainerNamedObjectPath [0x77397B8E+238]\n"
     ]
    }
   ],
   "source": [
    "# update = driver.find_element(By.CSS_SELECTOR, '#NM_TS_ROLLING_WRAP .news')\n",
    "# update = driver.find_element(By.CSS_SELECTOR, '#_title .DJJvD')\n",
    "# print(update.text)\n",
    "\n",
    "url = driver.current_url\n",
    "\n",
    "print(url)\n",
    "\n",
    "driver.get(url)\n",
    "\n",
    "time.sleep(5)\n",
    "\n",
    "# print(driver.page_source)\n",
    "\n",
    "# update = driver.find_element(By.CSS_SELECTOR, '#_title > span.DJJvD')\n",
    "# print(update.text)\n",
    "\n",
    "# details = driver.find_element(By.CSS_SELECTOR, '#baseMap > div:nth-child(1) > div > div.mapboxgl-canvas-container.mapboxgl-interactive > div > div:nth-child(3) > div:nth-child(2) > div > salt-marker > div > button')\n",
    "# details.click()\n",
    "\n",
    "\n",
    "\n"
   ]
  }
 ],
 "metadata": {
  "kernelspec": {
   "display_name": "Python 3 (ipykernel)",
   "language": "python",
   "name": "python3"
  },
  "language_info": {
   "codemirror_mode": {
    "name": "ipython",
    "version": 3
   },
   "file_extension": ".py",
   "mimetype": "text/x-python",
   "name": "python",
   "nbconvert_exporter": "python",
   "pygments_lexer": "ipython3",
   "version": "3.9.13"
  }
 },
 "nbformat": 4,
 "nbformat_minor": 5
}
